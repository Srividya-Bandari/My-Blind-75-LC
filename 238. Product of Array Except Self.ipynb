{
 "cells": [
  {
   "cell_type": "code",
   "execution_count": null,
   "id": "c3a797d6",
   "metadata": {},
   "outputs": [],
   "source": [
    "class Solution:\n",
    "    def productExceptSelf(self, nums: List[int]) -> List[int]:\n",
    "        op = [1] * len(nums)\n",
    "        rs = 1\n",
    "        for i in range(1, len(nums)):\n",
    "            op[i] = op[i-1] * nums[i-1]\n",
    "            \n",
    "        for i in range(len(nums)-2, -1, -1):\n",
    "            rs = nums[i+1] * rs\n",
    "            op[i] = rs * op[i]\n",
    "        return op\n",
    "            \n",
    "    \n",
    "            \n",
    "        "
   ]
  }
 ],
 "metadata": {
  "kernelspec": {
   "display_name": "Python 3 (ipykernel)",
   "language": "python",
   "name": "python3"
  },
  "language_info": {
   "codemirror_mode": {
    "name": "ipython",
    "version": 3
   },
   "file_extension": ".py",
   "mimetype": "text/x-python",
   "name": "python",
   "nbconvert_exporter": "python",
   "pygments_lexer": "ipython3",
   "version": "3.9.12"
  }
 },
 "nbformat": 4,
 "nbformat_minor": 5
}
