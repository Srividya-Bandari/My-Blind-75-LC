{
 "cells": [
  {
   "cell_type": "code",
   "execution_count": null,
   "id": "3dde32e7",
   "metadata": {},
   "outputs": [],
   "source": [
    "# Definition for a binary tree node.\n",
    "# class TreeNode:\n",
    "#     def __init__(self, val=0, left=None, right=None):\n",
    "#         self.val = val\n",
    "#         self.left = left\n",
    "#         self.right = right\n",
    "class Solution:\n",
    "    def maxPathSum(self, root: Optional[TreeNode]) -> int:\n",
    "        res = [root.val]\n",
    "        \n",
    "        def dfs(root):\n",
    "            if not root:\n",
    "                return 0\n",
    "            leftSum = dfs(root.left)\n",
    "            rightSum = dfs(root.right)\n",
    "            leftSum = max(leftSum, 0)\n",
    "            rightSum = max(rightSum, 0)\n",
    "            \n",
    "            res[0] = max(res[0], res[0]+rightSum+leftSum)\n",
    "            return root.val + max(leftSum,rightSum)\n",
    "        dfs(root)\n",
    "        return res[0]\n",
    "        "
   ]
  }
 ],
 "metadata": {
  "kernelspec": {
   "display_name": "Python 3 (ipykernel)",
   "language": "python",
   "name": "python3"
  },
  "language_info": {
   "codemirror_mode": {
    "name": "ipython",
    "version": 3
   },
   "file_extension": ".py",
   "mimetype": "text/x-python",
   "name": "python",
   "nbconvert_exporter": "python",
   "pygments_lexer": "ipython3",
   "version": "3.9.12"
  }
 },
 "nbformat": 4,
 "nbformat_minor": 5
}
