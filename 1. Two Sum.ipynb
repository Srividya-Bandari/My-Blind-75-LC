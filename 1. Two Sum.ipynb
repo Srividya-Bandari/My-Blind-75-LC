{
 "cells": [
  {
   "cell_type": "code",
   "execution_count": null,
   "id": "685a3de0",
   "metadata": {},
   "outputs": [],
   "source": [
    "class Solution:\n",
    "    def twoSum(self, nums: List[int], target: int) -> List[int]:\n",
    "        HM = {} # value : index\n",
    "        for i in range(0, len(nums)):\n",
    "            Val = target - nums[i]\n",
    "            if Val not in HM:\n",
    "                HM[nums[i]] = i\n",
    "            else:\n",
    "                return [HM[Val], i]\n",
    "            \n",
    "        "
   ]
  }
 ],
 "metadata": {
  "kernelspec": {
   "display_name": "Python 3 (ipykernel)",
   "language": "python",
   "name": "python3"
  },
  "language_info": {
   "codemirror_mode": {
    "name": "ipython",
    "version": 3
   },
   "file_extension": ".py",
   "mimetype": "text/x-python",
   "name": "python",
   "nbconvert_exporter": "python",
   "pygments_lexer": "ipython3",
   "version": "3.9.12"
  }
 },
 "nbformat": 4,
 "nbformat_minor": 5
}
