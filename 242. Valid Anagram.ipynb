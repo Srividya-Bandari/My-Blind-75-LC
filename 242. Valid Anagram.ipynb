{
 "cells": [
  {
   "cell_type": "code",
   "execution_count": null,
   "id": "9fa8fb40",
   "metadata": {},
   "outputs": [],
   "source": [
    "class Solution:\n",
    "    def isAnagram(self, s: str, t: str) -> bool:\n",
    "        hm1 = {}\n",
    "        hm2 = {}\n",
    "        leng = 0 \n",
    "        \n",
    "        for a in s:\n",
    "            hm1[a] = 1 + hm1.get(a, 0)\n",
    "            \n",
    "        for b in t:\n",
    "            hm2[b] = 1 + hm2.get(b, 0)\n",
    "            \n",
    "        for i in s:\n",
    "            if i in hm2 and hm1[i] == hm2[i] and len(s) == len(t):\n",
    "                leng += 1\n",
    "                \n",
    "        if leng == len(s):\n",
    "            return True\n",
    "        return False\n",
    "            \n",
    "            \n",
    "        \n",
    "        "
   ]
  }
 ],
 "metadata": {
  "kernelspec": {
   "display_name": "Python 3 (ipykernel)",
   "language": "python",
   "name": "python3"
  },
  "language_info": {
   "codemirror_mode": {
    "name": "ipython",
    "version": 3
   },
   "file_extension": ".py",
   "mimetype": "text/x-python",
   "name": "python",
   "nbconvert_exporter": "python",
   "pygments_lexer": "ipython3",
   "version": "3.9.12"
  }
 },
 "nbformat": 4,
 "nbformat_minor": 5
}
