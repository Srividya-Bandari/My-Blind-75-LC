{
 "cells": [
  {
   "cell_type": "code",
   "execution_count": null,
   "id": "6ff7fe1c",
   "metadata": {},
   "outputs": [],
   "source": [
    "class Solution:\n",
    "    def isValid(self, s: str) -> bool:\n",
    "        stack = []\n",
    "        Hm = {')' : '(', ']' : '[', '}' : '{'}\n",
    "        \n",
    "        for i in s:\n",
    "            if i in Hm:\n",
    "                if stack and stack[-1] == Hm[i]:\n",
    "                    stack.pop()\n",
    "                else:\n",
    "                    return False\n",
    "                \n",
    "            else:\n",
    "                stack.append(i)\n",
    "            \n",
    "        return True if not stack else False\n",
    "        "
   ]
  }
 ],
 "metadata": {
  "kernelspec": {
   "display_name": "Python 3 (ipykernel)",
   "language": "python",
   "name": "python3"
  },
  "language_info": {
   "codemirror_mode": {
    "name": "ipython",
    "version": 3
   },
   "file_extension": ".py",
   "mimetype": "text/x-python",
   "name": "python",
   "nbconvert_exporter": "python",
   "pygments_lexer": "ipython3",
   "version": "3.9.12"
  }
 },
 "nbformat": 4,
 "nbformat_minor": 5
}
