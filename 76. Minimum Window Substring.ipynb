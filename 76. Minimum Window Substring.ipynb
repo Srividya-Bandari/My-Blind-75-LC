{
 "cells": [
  {
   "cell_type": "code",
   "execution_count": null,
   "id": "32427c9c",
   "metadata": {},
   "outputs": [],
   "source": [
    "class Solution:\n",
    "    def minWindow(self, s: str, t: str) -> str:\n",
    "        if t == \"\":\n",
    "            return \"\"\n",
    "    \n",
    "        Set_T, window = {}, {}\n",
    "    \n",
    "        for ch in t:\n",
    "            Set_T[ch] = 1 + Set_T.get(ch, 0)\n",
    "    \n",
    "        have, need = 0, len(Set_T)\n",
    "        res, res_len = [-1, -1], float(\"infinity\")\n",
    "        l = 0\n",
    "        for r in range(len(s)):\n",
    "            window[s[r]] = 1 + window.get(s[r], 0)\n",
    "            if s[r] in Set_T and window[s[r]] == Set_T[s[r]]:\n",
    "                have += 1\n",
    "        \n",
    "            while have == need:\n",
    "                if (r-l+1) < res_len:\n",
    "                    res = [l,r]\n",
    "                    res_len = (r-l+1)\n",
    "                \n",
    "                window[s[l]] -= 1\n",
    "                if s[l] in Set_T and window[s[l]] < Set_T[s[l]]:\n",
    "                    have -= 1\n",
    "                l += 1\n",
    "        l, r = res\n",
    "        return s[l:r+1] if res_len != float(\"infinity\") else \"\"\n",
    "        \n",
    "        \n",
    "        \n",
    "        \n",
    "        \n",
    "        \n",
    "        \n",
    "        \n",
    "        \n",
    "        \n",
    "        \n",
    "        \n",
    "        "
   ]
  }
 ],
 "metadata": {
  "kernelspec": {
   "display_name": "Python 3 (ipykernel)",
   "language": "python",
   "name": "python3"
  },
  "language_info": {
   "codemirror_mode": {
    "name": "ipython",
    "version": 3
   },
   "file_extension": ".py",
   "mimetype": "text/x-python",
   "name": "python",
   "nbconvert_exporter": "python",
   "pygments_lexer": "ipython3",
   "version": "3.9.12"
  }
 },
 "nbformat": 4,
 "nbformat_minor": 5
}
