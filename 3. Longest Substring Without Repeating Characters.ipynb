{
 "cells": [
  {
   "cell_type": "code",
   "execution_count": null,
   "id": "5766a1b0",
   "metadata": {},
   "outputs": [],
   "source": [
    "class Solution:\n",
    "    def lengthOfLongestSubstring(self, s: str) -> int:\n",
    "        charset = set()\n",
    "        j = 0\n",
    "        maxcnt = 0\n",
    "        for i in range(len(s)):\n",
    "            while s[i] in charset:\n",
    "                charset.remove(s[j])\n",
    "                j += 1\n",
    "            charset.add(s[i])\n",
    "            maxcnt = max(maxcnt, i-j+1)\n",
    "        return maxcnt\n",
    "                \n",
    "        \n",
    "        \n",
    "        "
   ]
  }
 ],
 "metadata": {
  "kernelspec": {
   "display_name": "Python 3 (ipykernel)",
   "language": "python",
   "name": "python3"
  },
  "language_info": {
   "codemirror_mode": {
    "name": "ipython",
    "version": 3
   },
   "file_extension": ".py",
   "mimetype": "text/x-python",
   "name": "python",
   "nbconvert_exporter": "python",
   "pygments_lexer": "ipython3",
   "version": "3.9.12"
  }
 },
 "nbformat": 4,
 "nbformat_minor": 5
}
