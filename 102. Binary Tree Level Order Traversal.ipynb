{
 "cells": [
  {
   "cell_type": "code",
   "execution_count": null,
   "id": "efe09c94",
   "metadata": {},
   "outputs": [],
   "source": [
    "# Definition for a binary tree node.\n",
    "# class TreeNode:\n",
    "#     def __init__(self, val=0, left=None, right=None):\n",
    "#         self.val = val\n",
    "#         self.left = left\n",
    "#         self.right = right\n",
    "class Solution:\n",
    "    def levelOrder(self, root: Optional[TreeNode]) -> List[List[int]]:\n",
    "        output = []\n",
    "        dq = collections.deque()\n",
    "        dq.append(root)\n",
    "        \n",
    "        while dq:\n",
    "            dqlen = len(dq)\n",
    "            level = []\n",
    "            for i in range(dqlen):\n",
    "                node = dq.popleft()\n",
    "                if node:\n",
    "                    dq.append(node.left)\n",
    "                    dq.append(node.right)\n",
    "                    level.append(node.val)\n",
    "            if level:\n",
    "                output.append(level)\n",
    "                \n",
    "        return output"
   ]
  }
 ],
 "metadata": {
  "kernelspec": {
   "display_name": "Python 3 (ipykernel)",
   "language": "python",
   "name": "python3"
  },
  "language_info": {
   "codemirror_mode": {
    "name": "ipython",
    "version": 3
   },
   "file_extension": ".py",
   "mimetype": "text/x-python",
   "name": "python",
   "nbconvert_exporter": "python",
   "pygments_lexer": "ipython3",
   "version": "3.9.12"
  }
 },
 "nbformat": 4,
 "nbformat_minor": 5
}
