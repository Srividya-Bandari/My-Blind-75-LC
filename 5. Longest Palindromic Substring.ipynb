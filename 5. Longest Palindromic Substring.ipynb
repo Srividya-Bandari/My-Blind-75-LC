{
 "cells": [
  {
   "cell_type": "code",
   "execution_count": null,
   "id": "67f8c1fd",
   "metadata": {},
   "outputs": [],
   "source": [
    "class Solution:\n",
    "    def longestPalindrome(self, s: str) -> str:\n",
    "        res = ''\n",
    "        reslen = 0\n",
    "        \n",
    "        for i in range(len(s)):\n",
    "            l, r = i, i\n",
    "            while l >= 0 and r <= len(s)-1 and s[l] == s[r]:\n",
    "                if (r-l+1) > reslen:\n",
    "                    reslen = r-l+1\n",
    "                    res = s[l:r+1]\n",
    "                l -= 1\n",
    "                r += 1\n",
    "            \n",
    "        for i in range(len(s)):\n",
    "            l, r = i, i+1\n",
    "            while l >= 0 and r <= len(s)-1 and s[l] == s[r]:\n",
    "                if (r-l+1) > reslen:\n",
    "                    reslen = r-l+1\n",
    "                    res = s[l:r+1]\n",
    "                l -= 1\n",
    "                r += 1\n",
    "                \n",
    "        return res\n",
    "        "
   ]
  }
 ],
 "metadata": {
  "kernelspec": {
   "display_name": "Python 3 (ipykernel)",
   "language": "python",
   "name": "python3"
  },
  "language_info": {
   "codemirror_mode": {
    "name": "ipython",
    "version": 3
   },
   "file_extension": ".py",
   "mimetype": "text/x-python",
   "name": "python",
   "nbconvert_exporter": "python",
   "pygments_lexer": "ipython3",
   "version": "3.9.12"
  }
 },
 "nbformat": 4,
 "nbformat_minor": 5
}
